{
 "cells": [
  {
   "cell_type": "markdown",
   "metadata": {},
   "source": [
    "<h1>Outdoor Recreation: Site Attributes and Activities</h1>\n",
    "Here, we would like to verify that there is adequate variation in the offerings of particular sites/destinations.  Doing so will provide a reasonable basis for assuming that recommendations to hosts may be made according to the particulars of nearby attractions and similar offerings."
   ]
  },
  {
   "cell_type": "code",
   "execution_count": 1,
   "metadata": {},
   "outputs": [],
   "source": [
    "import pandas as pd\n",
    "import numpy as np"
   ]
  },
  {
   "cell_type": "code",
   "execution_count": 2,
   "metadata": {},
   "outputs": [],
   "source": [
    "attributes = pd.read_csv('CampsiteAttributes_API_v1.csv')\n",
    "activities = pd.read_csv('EntityActivities_API_v1.csv')"
   ]
  },
  {
   "cell_type": "markdown",
   "metadata": {},
   "source": [
    "<h3>Campsite Attributes</h3>"
   ]
  },
  {
   "cell_type": "code",
   "execution_count": 13,
   "metadata": {},
   "outputs": [
    {
     "data": {
      "text/plain": [
       "11       99416\n",
       "12       99395\n",
       "52       97278\n",
       "53       95742\n",
       "10429    94069\n",
       "         ...  \n",
       "10427        1\n",
       "10410        1\n",
       "10431        1\n",
       "10420        1\n",
       "10394        1\n",
       "Name: AttributeID, Length: 319, dtype: int64"
      ]
     },
     "execution_count": 13,
     "metadata": {},
     "output_type": "execute_result"
    }
   ],
   "source": [
    "attributes['AttributeID'].value_counts()"
   ]
  },
  {
   "cell_type": "code",
   "execution_count": 19,
   "metadata": {},
   "outputs": [],
   "source": [
    "#first we collect the number of attributes listed per entity\n",
    "att_count = attributes.groupby('EntityID')['AttributeID'].nunique()"
   ]
  },
  {
   "cell_type": "code",
   "execution_count": 20,
   "metadata": {},
   "outputs": [
    {
     "data": {
      "text/plain": [
       "array([13, 12, 15,  5, 14, 11, 16,  3, 18, 19, 17, 30, 24, 31,  7,  8, 29,\n",
       "       10, 21, 20, 22, 26, 23, 32,  9, 25, 27, 38, 36, 37, 33, 39, 35, 34,\n",
       "       28, 41, 40, 42, 43,  1, 47, 44, 48, 45, 46, 50,  2, 56, 58, 54, 59,\n",
       "       57, 61, 60, 55, 49, 51, 52,  6,  4, 53, 64, 62, 66, 63, 71, 67, 68],\n",
       "      dtype=int64)"
      ]
     },
     "execution_count": 20,
     "metadata": {},
     "output_type": "execute_result"
    }
   ],
   "source": [
    "#next we want to see all of the realized counts\n",
    "att_count.unique()"
   ]
  },
  {
   "cell_type": "code",
   "execution_count": 21,
   "metadata": {},
   "outputs": [
    {
     "data": {
      "text/plain": [
       "<AxesSubplot:ylabel='Frequency'>"
      ]
     },
     "execution_count": 21,
     "metadata": {},
     "output_type": "execute_result"
    },
    {
     "data": {
      "image/png": "[encoded data removed]",
      "text/plain": [
       "<Figure size 432x288 with 1 Axes>"
      ]
     },
     "metadata": {
      "needs_background": "light"
     },
     "output_type": "display_data"
    }
   ],
   "source": [
    "#finally we want to see the distribution of how many realize such counts\n",
    "att_count.plot.hist()"
   ]
  },
  {
   "cell_type": "markdown",
   "metadata": {},
   "source": [
    "Indicating that the attributes of attraction sites vary substantially enough that we can expect to be able to differentiate sites by what amenities they offer.  This provides a reasonable basis for being able to provide recommendations that are site specific.  And, this establishes the possibility of associating the popularity of sites (through the reservation data) with the amenities offered."
   ]
  },
  {
   "cell_type": "markdown",
   "metadata": {},
   "source": [
    "<h3>Activities</h3>\n",
    "The reasoning is the same as the attributes above."
   ]
  },
  {
   "cell_type": "code",
   "execution_count": 25,
   "metadata": {},
   "outputs": [
    {
     "data": {
      "text/plain": [
       "126"
      ]
     },
     "execution_count": 25,
     "metadata": {},
     "output_type": "execute_result"
    }
   ],
   "source": [
    "#first we want to see how many activites are possible\n",
    "len(activities['ActivityID'].unique())"
   ]
  },
  {
   "cell_type": "code",
   "execution_count": 26,
   "metadata": {},
   "outputs": [
    {
     "data": {
      "text/plain": [
       "14        8277\n",
       "9         6750\n",
       "11        5828\n",
       "26        4567\n",
       "6         4033\n",
       "          ... \n",
       "100068       1\n",
       "100067       1\n",
       "100084       1\n",
       "100066       1\n",
       "100079       1\n",
       "Name: ActivityID, Length: 126, dtype: int64"
      ]
     },
     "execution_count": 26,
     "metadata": {},
     "output_type": "execute_result"
    }
   ],
   "source": [
    "activities['ActivityID'].value_counts()"
   ]
  },
  {
   "cell_type": "code",
   "execution_count": 28,
   "metadata": {},
   "outputs": [],
   "source": [
    "act_count = activities.groupby('EntityID')['ActivityID'].nunique()"
   ]
  },
  {
   "cell_type": "code",
   "execution_count": 29,
   "metadata": {},
   "outputs": [
    {
     "data": {
      "text/plain": [
       "array([ 5, 13,  7, 11, 15,  3,  8, 16,  4, 12, 14,  9, 10,  1,  6,  2, 17,\n",
       "       18, 24, 22, 19, 20, 21, 25, 23, 26, 28, 29, 31, 27, 30, 33],\n",
       "      dtype=int64)"
      ]
     },
     "execution_count": 29,
     "metadata": {},
     "output_type": "execute_result"
    }
   ],
   "source": [
    "act_count.unique()"
   ]
  },
  {
   "cell_type": "code",
   "execution_count": 30,
   "metadata": {},
   "outputs": [
    {
     "data": {
      "text/plain": [
       "<AxesSubplot:ylabel='Frequency'>"
      ]
     },
     "execution_count": 30,
     "metadata": {},
     "output_type": "execute_result"
    },
    {
     "data": {
      "image/png": "[encoded data removed]",
      "text/plain": [
       "<Figure size 432x288 with 1 Axes>"
      ]
     },
     "metadata": {
      "needs_background": "light"
     },
     "output_type": "display_data"
    }
   ],
   "source": [
    "act_count.plot.hist()"
   ]
  },
  {
   "cell_type": "markdown",
   "metadata": {},
   "source": [
    "Again, giving the desired result that sites offer a variety of activities and our recommendations are likely able to be site specific."
   ]
  }
 ],
 "metadata": {
  "kernelspec": {
   "display_name": "Python 3",
   "language": "python",
   "name": "python3"
  },
  "language_info": {
   "codemirror_mode": {
    "name": "ipython",
    "version": 3
   },
   "file_extension": ".py",
   "mimetype": "text/x-python",
   "name": "python",
   "nbconvert_exporter": "python",
   "pygments_lexer": "ipython3",
   "version": "3.7.9"
  }
 },
 "nbformat": 4,
 "nbformat_minor": 4
}
