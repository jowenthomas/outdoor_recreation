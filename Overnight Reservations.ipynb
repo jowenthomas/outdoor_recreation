{
 "cells": [
  {
   "cell_type": "markdown",
   "metadata": {},
   "source": [
    "<h1>Outdoor Recreation: Overnight Reservations</h1>\n",
    "Here we would like to get an idea for:\n",
    "<ul>\n",
    "<li>how many overnight reservations occur, </li>\n",
    "<li>in what type of facilities the guests stay,</li>\n",
    "<li>the spread of where they stay,</li>\n",
    "<li>when they stay,</li>\n",
    "<li>and how many people stay.</li>\n",
    "<ul>\n"
   ]
  },
  {
   "cell_type": "markdown",
   "metadata": {},
   "source": [
    "Put simply, we would like to verify that there is enough variation in our data that it is reasonable to expect our models will provided differentiable recommendations depending on the attributes of a given host."
   ]
  },
  {
   "cell_type": "code",
   "execution_count": 1,
   "metadata": {},
   "outputs": [],
   "source": [
    "import pandas as pd\n",
    "import numpy as np"
   ]
  },
  {
   "cell_type": "code",
   "execution_count": 2,
   "metadata": {
    "scrolled": true
   },
   "outputs": [
    {
     "name": "stderr",
     "output_type": "stream",
     "text": [
      "C:\\Users\\Thomas\\anaconda3\\lib\\site-packages\\IPython\\core\\interactiveshell.py:3146: DtypeWarning: Columns (5,6,7,12,17,20,31,34) have mixed types.Specify dtype option on import or set low_memory=False.\n",
      "  interactivity=interactivity, compiler=compiler, result=result)\n"
     ]
    }
   ],
   "source": [
    "res19 = pd.read_csv('reservations2019.csv')"
   ]
  },
  {
   "cell_type": "code",
   "execution_count": 3,
   "metadata": {},
   "outputs": [
    {
     "data": {
      "text/plain": [
       "(3479643, 36)"
      ]
     },
     "execution_count": 3,
     "metadata": {},
     "output_type": "execute_result"
    }
   ],
   "source": [
    "res19.shape"
   ]
  },
  {
   "cell_type": "code",
   "execution_count": 4,
   "metadata": {
    "scrolled": true
   },
   "outputs": [
    {
     "data": {
      "text/plain": [
       "Index(['historicalreservationid', 'ordernumber', 'agency', 'orgid',\n",
       "       'codehierarchy', 'regioncode', 'regiondescription', 'parentlocationid',\n",
       "       'parentlocation', 'legacyfacilityid', 'park', 'sitetype', 'usetype',\n",
       "       'productid', 'inventorytype', 'facilityid', 'facilityzip',\n",
       "       'facilitystate', 'facilitylongitude', 'facilitylatitude', 'customerzip',\n",
       "       'customerstate', 'customercountry', 'tax', 'usefee', 'tranfee',\n",
       "       'attrfee', 'totalbeforetax', 'discount', 'totalpaid', 'startdate',\n",
       "       'enddate', 'orderdate', 'numberofpeople', 'equipmentdescription',\n",
       "       'equipmentlength'],\n",
       "      dtype='object')"
      ]
     },
     "execution_count": 4,
     "metadata": {},
     "output_type": "execute_result"
    }
   ],
   "source": [
    "res19.columns"
   ]
  },
  {
   "cell_type": "markdown",
   "metadata": {},
   "source": [
    "For the explaratory questions at hand we are interested in the columns\n",
    "'regiondescription',\n",
    "'parentlocationid',\n",
    "'sitetype', \n",
    "'usetype',\n",
    "'startdate',\n",
    "'numberofpeople'"
   ]
  },
  {
   "cell_type": "markdown",
   "metadata": {},
   "source": [
    "<h3>What proportion of reservations are for overnight stays?</h3>"
   ]
  },
  {
   "cell_type": "code",
   "execution_count": 5,
   "metadata": {},
   "outputs": [
    {
     "data": {
      "text/plain": [
       "array(['Overnight', nan, 'Day', 'Multi'], dtype=object)"
      ]
     },
     "execution_count": 5,
     "metadata": {},
     "output_type": "execute_result"
    }
   ],
   "source": [
    "res19['usetype'].unique()"
   ]
  },
  {
   "cell_type": "code",
   "execution_count": 6,
   "metadata": {},
   "outputs": [
    {
     "data": {
      "text/plain": [
       "2459649"
      ]
     },
     "execution_count": 6,
     "metadata": {},
     "output_type": "execute_result"
    }
   ],
   "source": [
    "(res19['usetype']=='Overnight').sum()"
   ]
  },
  {
   "cell_type": "code",
   "execution_count": 9,
   "metadata": {},
   "outputs": [],
   "source": [
    "#proportions\n",
    "day_prop = (res19['usetype']=='Day').sum()/3479643\n",
    "overnight_prop = (res19['usetype']=='Overnight').sum()/3479643\n",
    "multi_prop = (res19['usetype']=='Multi').sum()/3479643"
   ]
  },
  {
   "cell_type": "code",
   "execution_count": 16,
   "metadata": {},
   "outputs": [
    {
     "name": "stdout",
     "output_type": "stream",
     "text": [
      "Day:0.006335707427457357\n",
      "Overnight:0.7068682045830563\n",
      "Multi:6.322487680489062e-06\n"
     ]
    }
   ],
   "source": [
    "print('Day:' + str(day_prop) + '\\n' + 'Overnight:' + str(overnight_prop)+ '\\n' + 'Multi:' + str(multi_prop))"
   ]
  },
  {
   "cell_type": "markdown",
   "metadata": {},
   "source": [
    "So we can see that about 2.5 million (a very dominant majority of the labelled observations) reservations are overnight, confirming that there is a market for overnight lodging options."
   ]
  },
  {
   "cell_type": "markdown",
   "metadata": {},
   "source": [
    "<h3>In what type of facilities do guests stay?</h3>"
   ]
  },
  {
   "cell_type": "code",
   "execution_count": 17,
   "metadata": {},
   "outputs": [
    {
     "data": {
      "text/plain": [
       "array(['CABIN NONELECTRIC', 'Entrance', 'Historic Tour', nan,\n",
       "       'Hiking Zone', 'Campsite', 'Shelter Nonelectric',\n",
       "       'Standard Nonelectric', 'RV Nonelectric',\n",
       "       'GROUP SHELTER NONELECTRIC', 'SHELTER NONELECTRIC',\n",
       "       'GROUP PICNIC AREA', 'STANDARD ELECTRIC', 'TENT ONLY NONELECTRIC',\n",
       "       'GROUP SHELTER ELECTRIC', 'CABIN ELECTRIC', 'TENT ONLY ELECTRIC',\n",
       "       'GROUP STANDARD ELECTRIC', 'STANDARD NONELECTRIC',\n",
       "       'GROUP STANDARD AREA NONELECTRIC', 'EQUESTRIAN NONELECTRIC',\n",
       "       'GROUP TENT ONLY AREA NONELECTRIC', 'River', 'Entry Point',\n",
       "       'Segment', 'Trailhead', 'WALK TO', 'GROUP STANDARD NONELECTRIC',\n",
       "       'GROUP EQUESTRIAN', 'MOTOR', 'NONMOTOR', 'RV NONELECTRIC',\n",
       "       'GROUP WALK TO', 'SHELTER ELECTRIC', 'RV ELECTRIC',\n",
       "       'GROUP RV AREA NONELECTRIC', 'MANAGEMENT', 'Cabin', 'Campground',\n",
       "       'Cave Tour', 'Hidden', 'Nature Tour', 'Tent Only Nonelectric',\n",
       "       'Boat Tour', 'BOAT IN', 'HIKE TO', 'Zone', 'Houseboat',\n",
       "       'GROUP HIKE TO', 'COURT', 'PICNIC', 'Movie Tour',\n",
       "       'OVERNIGHT SHELTER NONELECTRIC', 'Combo Tour', 'ANCHORAGE',\n",
       "       'Cliff Dwelling Tour', 'Hike', 'EQUESTRIAN ELECTRIC',\n",
       "       'GROUP STANDARD AREA ELECTRIC', 'BALL FIELD', 'MOORING',\n",
       "       'OVERNIGHT SHELTER ELECTRIC', 'LOOKOUT', 'Boat Launch', 'YURT',\n",
       "       'Designated Campsite', 'Parking Space', 'Destination Zone',\n",
       "       'Nature Hike', 'Permit Area', 'Climbing Zone', 'Pass', 'DM', 'OH',\n",
       "       'OM', 'OP'], dtype=object)"
      ]
     },
     "execution_count": 17,
     "metadata": {},
     "output_type": "execute_result"
    }
   ],
   "source": [
    "res19['sitetype'].unique()"
   ]
  },
  {
   "cell_type": "code",
   "execution_count": 19,
   "metadata": {},
   "outputs": [
    {
     "data": {
      "text/plain": [
       "STANDARD NONELECTRIC                1030915\n",
       "STANDARD ELECTRIC                    844828\n",
       "TENT ONLY NONELECTRIC                244415\n",
       "RV NONELECTRIC                        72310\n",
       "WALK TO                               55277\n",
       "RV ELECTRIC                           46370\n",
       "CABIN NONELECTRIC                     30789\n",
       "GROUP STANDARD NONELECTRIC            20424\n",
       "HIKE TO                               19612\n",
       "GROUP TENT ONLY AREA NONELECTRIC      18907\n",
       "CABIN ELECTRIC                        10743\n",
       "BOAT IN                               10229\n",
       "MANAGEMENT                             9942\n",
       "TENT ONLY ELECTRIC                     9345\n",
       "EQUESTRIAN NONELECTRIC                 6582\n",
       "GROUP STANDARD AREA NONELECTRIC        4116\n",
       "OVERNIGHT SHELTER ELECTRIC             4094\n",
       "EQUESTRIAN ELECTRIC                    3582\n",
       "GROUP STANDARD ELECTRIC                2918\n",
       "YURT                                   1634\n",
       "GROUP HIKE TO                          1505\n",
       "Shelter Nonelectric                    1451\n",
       "Standard Nonelectric                   1418\n",
       "LOOKOUT                                1166\n",
       "GROUP SHELTER NONELECTRIC              1036\n",
       "GROUP WALK TO                          1016\n",
       "OVERNIGHT SHELTER NONELECTRIC           936\n",
       "SHELTER ELECTRIC                        742\n",
       "SHELTER NONELECTRIC                     640\n",
       "MOORING                                 632\n",
       "GROUP STANDARD AREA ELECTRIC            569\n",
       "GROUP EQUESTRIAN                        348\n",
       "GROUP SHELTER ELECTRIC                  275\n",
       "RV Nonelectric                          246\n",
       "GROUP RV AREA NONELECTRIC               211\n",
       "Zone                                    140\n",
       "ANCHORAGE                               127\n",
       "Tent Only Nonelectric                    92\n",
       "GROUP PICNIC AREA                        60\n",
       "Campsite                                  7\n",
       "Name: sitetype, dtype: int64"
      ]
     },
     "execution_count": 19,
     "metadata": {},
     "output_type": "execute_result"
    }
   ],
   "source": [
    "res19['sitetype'][res19['usetype']=='Overnight'].value_counts()"
   ]
  },
  {
   "cell_type": "markdown",
   "metadata": {},
   "source": [
    "This demonstrates a wide variety of lodging options selected by guests.  This has the advantage that host recommendations can also be varied and, more pointedly, that there are gaps in market offerings that hosts near popular destinations can fill.  That is, standard (meaning no built facilities at location) being the most popular is more likely to be an indication of cost/impact savings on the part of the site managers because of the variety of locations chosen by guests.  This reasoning is further supported by standard electric being the second most popular choice, indicating that guests want some conveniences and would respond favorably to additional market offerings."
   ]
  },
  {
   "cell_type": "markdown",
   "metadata": {},
   "source": [
    "<h3>Where do people stay?</h3>\n",
    "\n",
    "Here we are interested in verifying if the marketplace is diverse enough for a national market.  We will look at both the geographic spread of our overnight guests and the number of locations with a reasonable threshold of activity.  That is, if everyone stays near Yosemite, then we don't have much hope of making informative recommendations to hosts across the country (as we will see, this is not the case)."
   ]
  },
  {
   "cell_type": "code",
   "execution_count": 21,
   "metadata": {},
   "outputs": [
    {
     "data": {
      "text/plain": [
       "Southwestern Div.          285289\n",
       "Pacific Southwest          264833\n",
       "Pacific West Region        221246\n",
       "Intermountain Region       179465\n",
       "South Atlantic Div         161021\n",
       "Pacific Northwest          158333\n",
       "Mississippi Valley         137886\n",
       "Great Lakes / Ohio R       120409\n",
       "Rocky Mountain RE          113232\n",
       "Southeast Region           102295\n",
       "Intermountain Reg.          94705\n",
       "Northwestern Div.           91728\n",
       "Southern Region             80112\n",
       "Northeast Region            62208\n",
       "Eastern Region              57062\n",
       "Southwest Reg.              56655\n",
       "Midwest Region              45019\n",
       "Northern Region             41334\n",
       "Pwr                         36257\n",
       "South Pacific Div.          33706\n",
       "Imr                         24222\n",
       "North Atlantic Div          21069\n",
       "Alaska Region               17635\n",
       "National Capitol Region     12176\n",
       "Great Plains                 5297\n",
       "Mid Pacific                  5121\n",
       "Oregon (BLM)                 4612\n",
       "Nevada (BLM)                 3102\n",
       "Washington (BLM)             1630\n",
       "Alaska (BLM)                  989\n",
       "Region 7 Alaska               871\n",
       "Region 4 Southeast            794\n",
       "Utah (BLM) (UT)               206\n",
       "Name: regiondescription, dtype: int64"
      ]
     },
     "execution_count": 21,
     "metadata": {},
     "output_type": "execute_result"
    }
   ],
   "source": [
    "res19['regiondescription'][res19['usetype']=='Overnight'].value_counts()"
   ]
  },
  {
   "cell_type": "code",
   "execution_count": 28,
   "metadata": {},
   "outputs": [],
   "source": [
    "locations = res19['parentlocationid'][res19['usetype']=='Overnight'].value_counts()"
   ]
  },
  {
   "cell_type": "code",
   "execution_count": 29,
   "metadata": {},
   "outputs": [
    {
     "data": {
      "text/plain": [
       "74296       96729\n",
       "74282       59684\n",
       "74409       42688\n",
       "74283       41417\n",
       "74297       39776\n",
       "            ...  \n",
       "74651        1139\n",
       "10008687     1110\n",
       "74511        1089\n",
       "72438        1035\n",
       "72618        1025\n",
       "Name: parentlocationid, Length: 303, dtype: int64"
      ]
     },
     "execution_count": 29,
     "metadata": {},
     "output_type": "execute_result"
    }
   ],
   "source": [
    "locations[locations > 1000]"
   ]
  },
  {
   "cell_type": "markdown",
   "metadata": {},
   "source": [
    "Our results indicate that while we do have some concentration in the West (as we would expect), overnight stay utilization has substantial spread over the country and over many different sites.  This will allow for regional recommendations and site specific recommendations to improve the granularity of our modelling results."
   ]
  },
  {
   "cell_type": "markdown",
   "metadata": {},
   "source": [
    "<h3>When do people stay?</h3>\n",
    "Looking here to quantify seasonality."
   ]
  },
  {
   "cell_type": "code",
   "execution_count": 49,
   "metadata": {},
   "outputs": [],
   "source": [
    "dates = res19['startdate'][res19['usetype']=='Overnight']"
   ]
  },
  {
   "cell_type": "code",
   "execution_count": 50,
   "metadata": {},
   "outputs": [],
   "source": [
    "months = dates.str.slice_replace(start=7, repl='').str.slice_replace(stop=5, repl='')"
   ]
  },
  {
   "cell_type": "code",
   "execution_count": 61,
   "metadata": {},
   "outputs": [
    {
     "data": {
      "text/plain": [
       "0.8653051715915564"
      ]
     },
     "execution_count": 61,
     "metadata": {},
     "output_type": "execute_result"
    }
   ],
   "source": [
    "months.str.contains('|'.join(['05','06','07','08','09','10'])).sum()/len(dates)"
   ]
  },
  {
   "cell_type": "code",
   "execution_count": 62,
   "metadata": {},
   "outputs": [
    {
     "data": {
      "text/plain": [
       "344350.86000000004"
      ]
     },
     "execution_count": 62,
     "metadata": {},
     "output_type": "execute_result"
    }
   ],
   "source": [
    "len(dates)*.14"
   ]
  },
  {
   "cell_type": "markdown",
   "metadata": {},
   "source": [
    "As we would expect, such overnight stays have heavy seasonality that focus on the summer months.  But the number of stays from Nov. - Apr. are not insignificant.  Furthermore, future inspection would need to account for regional differences in May, Sep., and Oct.  Overall, there is enough spread here that we can provide specific recommendations in our model according to where a host site is located."
   ]
  },
  {
   "cell_type": "markdown",
   "metadata": {},
   "source": [
    "<h3>How many people stay?</h3>\n",
    "Finally, we would like to inspect the variation in how many people use any given reservation."
   ]
  },
  {
   "cell_type": "code",
   "execution_count": 63,
   "metadata": {},
   "outputs": [
    {
     "data": {
      "text/plain": [
       "2.0      968812\n",
       "4.0      410822\n",
       "6.0      279683\n",
       "3.0      218532\n",
       "5.0      160007\n",
       "          ...  \n",
       "87.0          1\n",
       "86.0          1\n",
       "68.0          1\n",
       "185.0         1\n",
       "94.0          1\n",
       "Name: numberofpeople, Length: 121, dtype: int64"
      ]
     },
     "execution_count": 63,
     "metadata": {},
     "output_type": "execute_result"
    }
   ],
   "source": [
    "res19['numberofpeople'][res19['usetype']=='Overnight'].value_counts()"
   ]
  },
  {
   "cell_type": "markdown",
   "metadata": {},
   "source": [
    "As desired, there is significant variation in the number of guest utilizing our spaces.  This raises the possibility that hosts may focus in on a particular subsection of guests (e.g., couple, families, groups) and, by extension, there is the potential to adjust our recommendations based on all of the above considerations accordingly."
   ]
  }
 ],
 "metadata": {
  "kernelspec": {
   "display_name": "Python 3",
   "language": "python",
   "name": "python3"
  },
  "language_info": {
   "codemirror_mode": {
    "name": "ipython",
    "version": 3
   },
   "file_extension": ".py",
   "mimetype": "text/x-python",
   "name": "python",
   "nbconvert_exporter": "python",
   "pygments_lexer": "ipython3",
   "version": "3.7.9"
  }
 },
 "nbformat": 4,
 "nbformat_minor": 4
}
